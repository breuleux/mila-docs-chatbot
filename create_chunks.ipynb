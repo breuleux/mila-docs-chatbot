{
 "cells": [
  {
   "cell_type": "markdown",
   "metadata": {},
   "source": [
    "# How to chunk the doc"
   ]
  },
  {
   "cell_type": "code",
   "execution_count": null,
   "metadata": {},
   "outputs": [],
   "source": [
    "from buster.docparser import get_all_documents\n",
    "from buster.parser import SphinxParser"
   ]
  },
  {
   "cell_type": "code",
   "execution_count": null,
   "metadata": {},
   "outputs": [],
   "source": [
    "# Docs in HTML format\n",
    "mila_docs_dir = \"/path/to/mila/docs\"\n",
    "\n",
    "# URL that will be prefixed to all chunk links \n",
    "base_url = \"https://docs.mila.quebec/\"\n",
    "\n",
    "# Parser to use, you can create one by inheriting from buster.parser.Parser\n",
    "parser = SphinxParser\n",
    "\n",
    "# Path to output CSV file\n",
    "output_csv = \"/path/to/output.csv\""
   ]
  },
  {
   "cell_type": "code",
   "execution_count": null,
   "metadata": {},
   "outputs": [],
   "source": [
    "# Create the chunks, returns a DataFrame\n",
    "documents_df = get_all_documents(mila_docs_dir, base_url, parser)\n",
    "\n",
    "# The source column is used to easily filter/update the documents. We could have mila-docs, slack-threads, office-hours, ...\n",
    "documents_df[\"source\"] = \"mila-docs\"\n",
    "\n",
    "# Save the chunks\n",
    "documents_df.to_csv(output_csv, index=False)"
   ]
  }
 ],
 "metadata": {
  "language_info": {
   "name": "python"
  },
  "orig_nbformat": 4
 },
 "nbformat": 4,
 "nbformat_minor": 2
}
